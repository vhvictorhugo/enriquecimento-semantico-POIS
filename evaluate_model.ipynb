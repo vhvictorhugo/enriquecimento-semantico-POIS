{
 "cells": [
  {
   "cell_type": "code",
   "execution_count": 14,
   "metadata": {},
   "outputs": [],
   "source": [
    "import pandas as pd"
   ]
  },
  {
   "cell_type": "code",
   "execution_count": 15,
   "metadata": {},
   "outputs": [],
   "source": [
    "state = 'NY'\n",
    "path_f_score = f'evaluate_model/{state}/fscore.csv'\n",
    "path_precision = f'evaluate_model/{state}/precision.csv'\n",
    "path_recall = f'evaluate_model/{state}/precision.csv'"
   ]
  },
  {
   "cell_type": "code",
   "execution_count": 16,
   "metadata": {},
   "outputs": [],
   "source": [
    "f_score_df = pd.read_csv(path_f_score)\n",
    "precision_df = pd.read_csv(path_precision)\n",
    "recall_df = pd.read_csv(path_recall)"
   ]
  },
  {
   "cell_type": "code",
   "execution_count": 17,
   "metadata": {},
   "outputs": [
    {
     "data": {
      "text/plain": [
       "Shopping         0.225391\n",
       "Community        0.193231\n",
       "Food             0.441471\n",
       "Entertainment    0.349584\n",
       "Travel           0.370551\n",
       "Outdoors         0.354754\n",
       "Nightlife        0.033045\n",
       "accuracy         0.344724\n",
       "macro avg        0.281147\n",
       "weighted avg     0.315900\n",
       "dtype: float64"
      ]
     },
     "execution_count": 17,
     "metadata": {},
     "output_type": "execute_result"
    }
   ],
   "source": [
    "f_score_df.mean()"
   ]
  },
  {
   "cell_type": "code",
   "execution_count": 18,
   "metadata": {},
   "outputs": [
    {
     "data": {
      "text/plain": [
       "Shopping         0.262781\n",
       "Community        0.302374\n",
       "Food             0.342629\n",
       "Entertainment    0.362077\n",
       "Travel           0.456352\n",
       "Outdoors         0.366049\n",
       "Nightlife        0.384211\n",
       "dtype: float64"
      ]
     },
     "execution_count": 18,
     "metadata": {},
     "output_type": "execute_result"
    }
   ],
   "source": [
    "precision_df.mean()"
   ]
  },
  {
   "cell_type": "code",
   "execution_count": 19,
   "metadata": {},
   "outputs": [
    {
     "data": {
      "text/plain": [
       "Shopping         0.262781\n",
       "Community        0.302374\n",
       "Food             0.342629\n",
       "Entertainment    0.362077\n",
       "Travel           0.456352\n",
       "Outdoors         0.366049\n",
       "Nightlife        0.384211\n",
       "dtype: float64"
      ]
     },
     "execution_count": 19,
     "metadata": {},
     "output_type": "execute_result"
    }
   ],
   "source": [
    "recall_df.mean()"
   ]
  }
 ],
 "metadata": {
  "kernelspec": {
   "display_name": "Python 3",
   "language": "python",
   "name": "python3"
  },
  "language_info": {
   "codemirror_mode": {
    "name": "ipython",
    "version": 3
   },
   "file_extension": ".py",
   "mimetype": "text/x-python",
   "name": "python",
   "nbconvert_exporter": "python",
   "pygments_lexer": "ipython3",
   "version": "3.10.0"
  }
 },
 "nbformat": 4,
 "nbformat_minor": 2
}
