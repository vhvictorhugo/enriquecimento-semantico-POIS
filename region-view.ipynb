{
 "cells": [
  {
   "cell_type": "code",
   "execution_count": 1,
   "metadata": {},
   "outputs": [],
   "source": [
    "# !pip install h3\n",
    "# !pip install haversine"
   ]
  },
  {
   "cell_type": "code",
   "execution_count": 2,
   "metadata": {},
   "outputs": [],
   "source": [
    "import pandas as pd\n",
    "import h3\n",
    "from haversine import haversine"
   ]
  },
  {
   "cell_type": "markdown",
   "metadata": {},
   "source": [
    "# Region View"
   ]
  },
  {
   "cell_type": "markdown",
   "metadata": {},
   "source": [
    "## Region - region (distance)\n",
    "\n",
    "**Entrada:**\n",
    "Check-ins com **latitude e longitude**\n",
    "\n",
    "**Saída:**\n",
    "**Matriz de adjacência** entre as regiões n x n, no qual **n** representa o número de regiões e cada linha **i j** representa a distância da região i até a região j em metros."
   ]
  },
  {
   "cell_type": "code",
   "execution_count": 3,
   "metadata": {},
   "outputs": [],
   "source": [
    "checkins = pd.read_csv('checkins.csv')"
   ]
  },
  {
   "cell_type": "code",
   "execution_count": 4,
   "metadata": {},
   "outputs": [],
   "source": [
    "def generate_h3_cell(row):\n",
    "    lat = row['latitude']\n",
    "    lon = row['longitude']\n",
    "    resolution = 9\n",
    "\n",
    "    h3_cell = h3.geo_to_h3(lat, lon, resolution)\n",
    "    return h3_cell"
   ]
  },
  {
   "cell_type": "code",
   "execution_count": 5,
   "metadata": {},
   "outputs": [
    {
     "data": {
      "text/plain": [
       "2181"
      ]
     },
     "execution_count": 5,
     "metadata": {},
     "output_type": "execute_result"
    }
   ],
   "source": [
    "checkins['h3_cell'] = (\n",
    "    checkins\n",
    "    .apply(generate_h3_cell, axis=1)\n",
    ")\n",
    "\n",
    "checkins['h3_cell'].nunique()"
   ]
  },
  {
   "cell_type": "markdown",
   "metadata": {},
   "source": [
    "Utilizando a resolução 9, temos 2181 células h3.\n",
    "\n",
    "Fazer um gráfico mapeando os checkins no estado de NY e fazer outro gráfico mapeando as tesselações no estado de NY, para validarmos se estamos pegando um número ideal de resolução"
   ]
  },
  {
   "cell_type": "code",
   "execution_count": 6,
   "metadata": {},
   "outputs": [],
   "source": [
    "def h3_centroid_distance(cell_h3_1, cell_h3_2):\n",
    "    centroid_1 = h3.h3_to_geo(cell_h3_1)\n",
    "    centroid_2 = h3.h3_to_geo(cell_h3_2)\n",
    "    \n",
    "    distance_meters = haversine(centroid_1, centroid_2) * 1000\n",
    "    return distance_meters"
   ]
  },
  {
   "cell_type": "markdown",
   "metadata": {},
   "source": [
    "### Criando um map para as regiões"
   ]
  },
  {
   "cell_type": "code",
   "execution_count": 7,
   "metadata": {},
   "outputs": [],
   "source": [
    "h3_regions = checkins['h3_cell'].unique()\n",
    "regions_map = []\n",
    "\n",
    "i = 0\n",
    "for h3_region in h3_regions:\n",
    "    region_map = {'region_id': i, 'value': h3_region}\n",
    "    i = i+1\n",
    "    regions_map.append(region_map)"
   ]
  },
  {
   "cell_type": "markdown",
   "metadata": {},
   "source": [
    "### Calcula distância do primeiro em relação a todos do mapeamento"
   ]
  },
  {
   "cell_type": "code",
   "execution_count": 8,
   "metadata": {},
   "outputs": [],
   "source": [
    "reference_region = regions_map[0]['value']\n",
    "distances = []\n",
    "\n",
    "for region_map in regions_map:    \n",
    "    region_id = region_map['region_id']\n",
    "    region_h3 = region_map['value']\n",
    "    \n",
    "    distance = h3_centroid_distance(reference_region, region_h3)\n",
    "    distances.append(distance)"
   ]
  },
  {
   "cell_type": "markdown",
   "metadata": {},
   "source": [
    "### Faz para todos as regiões"
   ]
  },
  {
   "cell_type": "code",
   "execution_count": 9,
   "metadata": {},
   "outputs": [],
   "source": [
    "adjacency_matrix = []\n",
    "\n",
    "for region_map_i in regions_map:\n",
    "    region_h3_i = region_map_i['value']\n",
    "    distances_i_j = []\n",
    "\n",
    "    for region_map_j in regions_map:    \n",
    "        region_id_j = region_map_j['region_id']\n",
    "        region_h3_j = region_map_j['value']\n",
    "        \n",
    "        distance = h3_centroid_distance(region_h3_i, region_h3_j)\n",
    "        distances_i_j.append(distance)\n",
    "    \n",
    "    adjacency_matrix.append(distances_i_j)"
   ]
  },
  {
   "cell_type": "markdown",
   "metadata": {},
   "source": [
    "## Region - POI (quantity)\n",
    "\n",
    "**Entrada:**\n",
    "\n",
    "Checkins com uma **região h3** associada à latitude e longitude \n",
    "\n",
    "**Saída:**\n",
    "**Matriz de features **contendo em cada linha** a região h3** e em cada coluna a **quantidade de check-ins em um dado POI**."
   ]
  },
  {
   "cell_type": "code",
   "execution_count": 28,
   "metadata": {},
   "outputs": [],
   "source": [
    "feature_matrix_poi_region_qt = (\n",
    "    pd.crosstab(\n",
    "        index=checkins['h3_cell'], columns=checkins['category']\n",
    "    )\n",
    ")\n",
    "feature_matrix_poi_region_qt.columns = (\n",
    "    [f'{col}' for col in feature_matrix_poi_region_qt.columns]\n",
    ")"
   ]
  }
 ],
 "metadata": {
  "kernelspec": {
   "display_name": "Python 3",
   "language": "python",
   "name": "python3"
  },
  "language_info": {
   "codemirror_mode": {
    "name": "ipython",
    "version": 3
   },
   "file_extension": ".py",
   "mimetype": "text/x-python",
   "name": "python",
   "nbconvert_exporter": "python",
   "pygments_lexer": "ipython3",
   "version": "3.10.12"
  },
  "orig_nbformat": 4
 },
 "nbformat": 4,
 "nbformat_minor": 2
}
