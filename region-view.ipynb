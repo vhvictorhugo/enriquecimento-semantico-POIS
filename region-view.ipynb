{
 "cells": [
  {
   "cell_type": "code",
   "execution_count": null,
   "metadata": {},
   "outputs": [],
   "source": [
    "# !pip install h3\n",
    "!pip install haversine"
   ]
  },
  {
   "cell_type": "code",
   "execution_count": 15,
   "metadata": {},
   "outputs": [],
   "source": [
    "import pandas as pd\n",
    "import h3\n",
    "from haversine import haversine"
   ]
  },
  {
   "cell_type": "markdown",
   "metadata": {},
   "source": [
    "# Region View"
   ]
  },
  {
   "cell_type": "markdown",
   "metadata": {},
   "source": [
    "## Region - region (distance)\n",
    "\n",
    "Gerar coluna 'h3_cell' de acordo com a latitude e longitude do check-in. Essa coluna será responsável por representar o hexágono h3 (região) daquela coordenada.\n",
    "\n",
    "Calcular para cada região presente ('h3_cell'), a distância dela até as demais regiões presentes\n",
    "  - pesquisar como calcular a distância entre as regiões h3\n",
    "  - para cada região, teremos um vetor de distâncias\n",
    "  - ao final, juntar todos os vetores em uma matriz\n",
    "\n",
    "**Entrada:**\n",
    "latitude e longitude dos check-ins\n",
    "\n",
    "**Saída:**\n",
    "Matriz de adjacência entre as regiões"
   ]
  },
  {
   "cell_type": "code",
   "execution_count": 7,
   "metadata": {},
   "outputs": [],
   "source": [
    "checkins = pd.read_csv('checkins.csv')"
   ]
  },
  {
   "cell_type": "code",
   "execution_count": 6,
   "metadata": {},
   "outputs": [],
   "source": [
    "def generate_h3_cell(row):\n",
    "    lat = row['latitude']\n",
    "    lon = row['longitude']\n",
    "    resolution = 9\n",
    "\n",
    "    h3_cell = h3.geo_to_h3(lat, lon, resolution)\n",
    "    return h3_cell"
   ]
  },
  {
   "cell_type": "code",
   "execution_count": 12,
   "metadata": {},
   "outputs": [
    {
     "data": {
      "text/plain": [
       "2181"
      ]
     },
     "execution_count": 12,
     "metadata": {},
     "output_type": "execute_result"
    }
   ],
   "source": [
    "checkins['h3_cell'] = (\n",
    "    checkins\n",
    "    .apply(generate_h3_cell, axis=1)\n",
    ")\n",
    "\n",
    "checkins['h3_cell'].nunique()"
   ]
  },
  {
   "cell_type": "markdown",
   "metadata": {},
   "source": [
    "Utilizando a resolução 9, temos 2181 células h3.\n",
    "\n",
    "Fazer um gráfico mapeando os checkins no estado de NY e fazer outro gráfico mapeando as tesselações no estado de NY, para validarmos se estamos pegando um número ideal de resolução"
   ]
  },
  {
   "cell_type": "code",
   "execution_count": 17,
   "metadata": {},
   "outputs": [],
   "source": [
    "def h3_centroid_distance(cell_h3_1, cell_h3_2):\n",
    "    centroid_1 = h3.h3_to_geo(cell_h3_1)\n",
    "    centroid_2 = h3.h3_to_geo(cell_h3_2)\n",
    "    \n",
    "    distance_meters = haversine(centroid_1, centroid_2) * 1000  # Converta para metros\n",
    "    return distance_meters"
   ]
  },
  {
   "cell_type": "code",
   "execution_count": 18,
   "metadata": {},
   "outputs": [
    {
     "name": "stdout",
     "output_type": "stream",
     "text": [
      "Distância entre os centroides: 1264.28 metros\n"
     ]
    }
   ],
   "source": [
    "cell_h3_1 = '892a100d673ffff'\n",
    "cell_h3_2 = '892a100d2c3ffff'\n",
    "\n",
    "distance = h3_centroid_distance(cell_h3_1, cell_h3_2)\n",
    "print(f'Distância entre os centroides: {distance:.2f} metros')"
   ]
  },
  {
   "cell_type": "markdown",
   "metadata": {},
   "source": [
    "## Region - POI (quantity)\n",
    "\n",
    "Agrupar os dados a partir da coluna 'h3_cell' e calcular a quantidade de POIs rotulados com as 7 categorias presentes naquela célula h3.\n",
    "\n",
    "Construir uma matriz contendo em cada linha a região e em cada coluna a quantidade de 1 categoria naquela região h3.\n",
    "\n",
    "**Entrada:**\n",
    "\n",
    "**Saída:**"
   ]
  }
 ],
 "metadata": {
  "kernelspec": {
   "display_name": "Python 3",
   "language": "python",
   "name": "python3"
  },
  "language_info": {
   "codemirror_mode": {
    "name": "ipython",
    "version": 3
   },
   "file_extension": ".py",
   "mimetype": "text/x-python",
   "name": "python",
   "nbconvert_exporter": "python",
   "pygments_lexer": "ipython3",
   "version": "3.10.12"
  },
  "orig_nbformat": 4
 },
 "nbformat": 4,
 "nbformat_minor": 2
}
