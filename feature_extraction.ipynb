{
 "cells": [
  {
   "cell_type": "code",
   "execution_count": 1,
   "metadata": {},
   "outputs": [],
   "source": [
    "# !pip install h3\n",
    "# !pip install plotly\n",
    "# !pip install haversine\n",
    "# !pip install pyarrow"
   ]
  },
  {
   "cell_type": "code",
   "execution_count": 2,
   "metadata": {},
   "outputs": [],
   "source": [
    "import h3\n",
    "import numpy as np\n",
    "import pandas as pd\n",
    "import plotly.express as px\n",
    "import scipy.sparse as sparse\n",
    "from haversine import haversine\n",
    "import matplotlib.pyplot as plt\n",
    "from datetime import datetime, timezone\n",
    "\n",
    "pd.options.display.float_format = '{:.4f}'.format\n",
    "pd.set_option('display.max_colwidth', 1000)"
   ]
  },
  {
   "cell_type": "code",
   "execution_count": 3,
   "metadata": {},
   "outputs": [],
   "source": [
    "checkins = pd.read_csv('checkins.csv')\n",
    "estado = 'New_York'"
   ]
  },
  {
   "cell_type": "code",
   "execution_count": 4,
   "metadata": {},
   "outputs": [],
   "source": [
    "checkins['local_datetime'] = pd.to_datetime(checkins['local_datetime'])\n",
    "checkins = checkins.rename(columns={'userid': 'user_id'})"
   ]
  },
  {
   "cell_type": "code",
   "execution_count": 5,
   "metadata": {},
   "outputs": [
    {
     "data": {
      "text/plain": [
       "322"
      ]
     },
     "execution_count": 5,
     "metadata": {},
     "output_type": "execute_result"
    }
   ],
   "source": [
    "checkins['user_id'].nunique()"
   ]
  },
  {
   "cell_type": "markdown",
   "metadata": {},
   "source": [
    "# Region View"
   ]
  },
  {
   "cell_type": "code",
   "execution_count": 6,
   "metadata": {},
   "outputs": [],
   "source": [
    "def generate_h3_cell(row):\n",
    "    lat = row['latitude']\n",
    "    lon = row['longitude']\n",
    "    resolution = 9\n",
    "\n",
    "    h3_cell = h3.latlng_to_cell(lat, lon, resolution)\n",
    "    return h3_cell"
   ]
  },
  {
   "cell_type": "code",
   "execution_count": 7,
   "metadata": {},
   "outputs": [
    {
     "data": {
      "text/plain": [
       "2175"
      ]
     },
     "execution_count": 7,
     "metadata": {},
     "output_type": "execute_result"
    }
   ],
   "source": [
    "checkins['region_id'] = (\n",
    "    checkins\n",
    "    .apply(generate_h3_cell, axis=1)\n",
    ")\n",
    "\n",
    "checkins['region_id'].nunique()"
   ]
  },
  {
   "cell_type": "markdown",
   "metadata": {},
   "source": [
    "## Region Embeddings"
   ]
  },
  {
   "cell_type": "code",
   "execution_count": 8,
   "metadata": {},
   "outputs": [],
   "source": [
    "dimension = 10\n",
    "embeddings_df = pd.read_csv(f'{estado}_embeddings_dimension_{dimension}.csv')"
   ]
  },
  {
   "cell_type": "code",
   "execution_count": 9,
   "metadata": {},
   "outputs": [],
   "source": [
    "def criar_dicionario(n):\n",
    "  \"\"\"\n",
    "  Cria um dicionário com n chaves e valores.\n",
    "\n",
    "  Argumentos:\n",
    "    n: Número inteiro que define o número de chaves e valores.\n",
    "\n",
    "  Retorno:\n",
    "    Dicionário com chaves de '0' a 'n-1' e valores de 'feature_1' a 'feature_n-1'.\n",
    "  \"\"\"\n",
    "  dicionario = {}\n",
    "  for i in range(n):\n",
    "    chave = str(i)\n",
    "    valor = \"feature_\" + str(i + 1)\n",
    "    dicionario[chave] = valor\n",
    "  return dicionario"
   ]
  },
  {
   "cell_type": "code",
   "execution_count": 10,
   "metadata": {},
   "outputs": [],
   "source": [
    "rename_columns = criar_dicionario(dimension)\n",
    "\n",
    "checkins_embeddings_df = (\n",
    "    checkins\n",
    "    .merge(embeddings_df, on='region_id')\n",
    "    .rename(columns=rename_columns)\n",
    ")"
   ]
  },
  {
   "cell_type": "code",
   "execution_count": 11,
   "metadata": {},
   "outputs": [
    {
     "data": {
      "text/plain": [
       "296"
      ]
     },
     "execution_count": 11,
     "metadata": {},
     "output_type": "execute_result"
    }
   ],
   "source": [
    "checkins_embeddings_df['user_id'].nunique()"
   ]
  },
  {
   "cell_type": "code",
   "execution_count": 12,
   "metadata": {},
   "outputs": [],
   "source": [
    "qt_lugares_por_usuario = (\n",
    "    checkins_embeddings_df\n",
    "    .groupby('user_id')\n",
    "    .agg(\n",
    "        {'placeid':'nunique'}\n",
    "    )\n",
    "    .sort_values(by=['placeid'], ascending=False)\n",
    "    .reset_index()\n",
    ")\n",
    "\n",
    "# filtrando usuarios com menos de 30 checkins\n",
    "qt_lugares_por_usuario = qt_lugares_por_usuario[qt_lugares_por_usuario['placeid'] >= 2]\n",
    "\n",
    "usuarios_validos = qt_lugares_por_usuario['user_id'].unique()\n",
    "\n",
    "checkins_embeddings_df = checkins_embeddings_df[checkins_embeddings_df['user_id'].isin(usuarios_validos)]"
   ]
  },
  {
   "cell_type": "markdown",
   "metadata": {},
   "source": [
    "### Generate user regions embeddings"
   ]
  },
  {
   "cell_type": "code",
   "execution_count": 13,
   "metadata": {},
   "outputs": [],
   "source": [
    "import json\n",
    "\n",
    "def generate_user_embeddings(checkins_embeddings_df: pd.DataFrame) -> pd.DataFrame:\n",
    "    users = checkins_embeddings_df['user_id'].unique()\n",
    "    user_embeddings = pd.DataFrame(columns=['user_id', 'embeddings'])\n",
    "\n",
    "    for user in users:\n",
    "        user_checkins = checkins_embeddings_df[checkins_embeddings_df['user_id'] == user]\n",
    "        feature_cols = (\n",
    "            checkins_embeddings_df\n",
    "            .filter(like='feature')\n",
    "            .columns\n",
    "            .tolist()\n",
    "        )\n",
    "        user_embedding = user_checkins[feature_cols].values\n",
    "        user_embedding = json.dumps(user_embedding.tolist())\n",
    "\n",
    "        user_embeddings = pd.concat(\n",
    "            [user_embeddings, pd.DataFrame({'user_id': user, 'embeddings': [user_embedding]})], \n",
    "            ignore_index=True\n",
    "        )\n",
    "    \n",
    "    return user_embeddings"
   ]
  },
  {
   "cell_type": "code",
   "execution_count": 14,
   "metadata": {},
   "outputs": [],
   "source": [
    "checkins_embeddings_df = checkins_embeddings_df.sort_values(by=['user_id'])\n",
    "user_embeddings_df = generate_user_embeddings(checkins_embeddings_df)"
   ]
  },
  {
   "cell_type": "code",
   "execution_count": 15,
   "metadata": {},
   "outputs": [],
   "source": [
    "(\n",
    "    user_embeddings_df\n",
    "    .to_csv(f'{estado}_user_embeddings_dimension_{dimension}.csv', index=False, sep=',')\n",
    ")"
   ]
  },
  {
   "cell_type": "code",
   "execution_count": 16,
   "metadata": {},
   "outputs": [],
   "source": [
    "(\n",
    "    checkins_embeddings_df\n",
    "    .drop(columns=['region_id'] + list(rename_columns.values()))\n",
    "    .rename(columns={'user_id': 'userid'})\n",
    "    .to_csv(f'{estado}_checkins_filtered.csv', index=False, sep=',')\n",
    ")"
   ]
  },
  {
   "cell_type": "code",
   "execution_count": 17,
   "metadata": {},
   "outputs": [],
   "source": [
    "# (\n",
    "#     checkins\n",
    "#     .groupby('user_id')\n",
    "#     .agg(\n",
    "#         qt_regioes_visitadas=('h3_cell', 'nunique'), \n",
    "#         frequencia_visitas_regioes=('h3_cell', 'count'), \n",
    "#         qt_localizacoes_visitadas=('placeid', 'nunique')\n",
    "#     )\n",
    "#     .sort_values(by=['qt_regioes_visitadas'], ascending=False)\n",
    "# )"
   ]
  },
  {
   "cell_type": "code",
   "execution_count": 18,
   "metadata": {},
   "outputs": [],
   "source": [
    "# px.box(\n",
    "#     (\n",
    "#         checkins\n",
    "#         .groupby('user_id')\n",
    "#         .agg(\n",
    "#             qt_regioes_visitadas=('h3_cell', 'nunique'), \n",
    "#             frequencia_visitas_regioes=('h3_cell', 'count'), \n",
    "#             qt_localizacoes_visitadas=('placeid', 'nunique')\n",
    "#         )\n",
    "#         .sort_values(by=['qt_regioes_visitadas'], ascending=False)\n",
    "#     ),\n",
    "#     y='qt_regioes_visitadas'\n",
    "# )"
   ]
  },
  {
   "cell_type": "markdown",
   "metadata": {},
   "source": [
    "## Region - region (distance)\n",
    "\n",
    "**Entrada:**\n",
    "Check-ins com **região h3**\n",
    "\n",
    "**Saída:**\n",
    "**Matriz de features** entre as regiões n x n, no qual **n** representa o número de regiões e cada elemento **i j** representa **a distância da região i até a região j em metros**."
   ]
  },
  {
   "cell_type": "markdown",
   "metadata": {},
   "source": [
    "É necessário também pegar o de-para das categorias que o Cláudio usa, de forma a usar um valor inteiro, ao invés do nome da categoria"
   ]
  },
  {
   "cell_type": "code",
   "execution_count": 19,
   "metadata": {},
   "outputs": [],
   "source": [
    "# def h3_centroid_distance(cell_h3_1, cell_h3_2):\n",
    "#     centroid_1 = h3.h3_to_geo(cell_h3_1)\n",
    "#     centroid_2 = h3.h3_to_geo(cell_h3_2)\n",
    "    \n",
    "#     distance_meters = haversine(centroid_1, centroid_2) * 1000\n",
    "#     return distance_meters"
   ]
  },
  {
   "cell_type": "code",
   "execution_count": 20,
   "metadata": {},
   "outputs": [],
   "source": [
    "# def generate_user_region_distance_matrix(checkins):\n",
    "#     users = checkins['user_id'].unique()\n",
    "\n",
    "#     users_regions_distance = pd.DataFrame(columns=['user_id', 'matrices'])\n",
    "#     all_regions = checkins['h3_cell'].unique().tolist()\n",
    "#     all_regions_set = set(all_regions)\n",
    "\n",
    "#     for user in users:\n",
    "#         user_checkins = checkins[checkins['user_id'] == user].sort_values(by='local_datetime')\n",
    "\n",
    "#         user_h3_regions = user_checkins['h3_cell'].unique().tolist()\n",
    "\n",
    "#         # calcula k-hop de cada região\n",
    "#         k = 3   # k-hop neighborhood\n",
    "\n",
    "#         user_h3_k_hop_regions = user_h3_regions.copy()\n",
    "\n",
    "#         for region in user_h3_regions:\n",
    "#             neighbors_regions_set = set(list(h3.k_ring(region, k)))\n",
    "\n",
    "#             intersecao = list(all_regions_set & neighbors_regions_set)\n",
    "\n",
    "#             user_h3_k_hop_regions.extend(intersecao)\n",
    "\n",
    "#         user_h3_k_hop_regions = list(set(user_h3_k_hop_regions))\n",
    "        \n",
    "#         # cria mapeamento de regiões para construir a matriz\n",
    "#         regions_map = []\n",
    "#         i = 0\n",
    "#         for h3_region in user_h3_k_hop_regions:\n",
    "#             region_map = {'region_id': i, 'value': h3_region}\n",
    "#             i = i+1\n",
    "#             regions_map.append(region_map)\n",
    "\n",
    "#         region_distance_matrix = []\n",
    "\n",
    "#         # calcula distância entre regiões\n",
    "#         for region_map_i in regions_map:\n",
    "#             region_h3_i = region_map_i['value']\n",
    "#             distances_i_j = []\n",
    "\n",
    "#             for region_map_j in regions_map:\n",
    "#                 region_h3_j = region_map_j['value']\n",
    "                \n",
    "#                 distance = round(h3_centroid_distance(region_h3_i, region_h3_j), 2)\n",
    "#                 distances_i_j.append(distance)\n",
    "            \n",
    "#             region_distance_matrix.append(distances_i_j)\n",
    "\n",
    "#         novo_dado = {\n",
    "#             'user_id': user, \n",
    "#             'matrices': str(region_distance_matrix),\n",
    "#             # 'category': str(user_checkins['category'].unique()) \n",
    "#         }\n",
    "\n",
    "#         aux_df = pd.DataFrame(novo_dado, index=[0])\n",
    "\n",
    "#         users_regions_distance = pd.concat([users_regions_distance, aux_df], ignore_index=True)\n",
    "\n",
    "#     return users_regions_distance"
   ]
  },
  {
   "cell_type": "code",
   "execution_count": 21,
   "metadata": {},
   "outputs": [],
   "source": [
    "# users_regions_distance = generate_user_region_distance_matrix(checkins)"
   ]
  },
  {
   "cell_type": "code",
   "execution_count": 22,
   "metadata": {},
   "outputs": [],
   "source": [
    "# users_regions_distance.head(3)"
   ]
  },
  {
   "cell_type": "code",
   "execution_count": 23,
   "metadata": {},
   "outputs": [],
   "source": [
    "# users_regions_distance.shape"
   ]
  },
  {
   "cell_type": "code",
   "execution_count": 24,
   "metadata": {},
   "outputs": [],
   "source": [
    "# users_regions_distance[['user_id', 'matrices']].to_csv(f'region_distance_feature_{estado}.csv', index=False)"
   ]
  },
  {
   "cell_type": "markdown",
   "metadata": {},
   "source": [
    "## Region - region (adjacency matrix)\n",
    "\n",
    "**Entrada:**\n",
    "Check-ins com **região h3**\n",
    "\n",
    "**Saída:**\n",
    "**Matriz de adjacência** entre as regiões n x n, no qual **n** representa o número de regiões e cada elemento **i j** representa se **a região j sucede a região i, de acordo com a data** do checkin. A informação em i e j é ponderada, **indicando o número de vezes que j sucede i**."
   ]
  },
  {
   "cell_type": "code",
   "execution_count": 25,
   "metadata": {},
   "outputs": [],
   "source": [
    "# def generate_user_region_adjacency_matrix(checkins):\n",
    "#     users = checkins['user_id'].unique()\n",
    "\n",
    "#     users_regions_adjacency = pd.DataFrame(columns=['user_id', 'matrices'])\n",
    "#     all_regions = checkins['h3_cell'].unique().tolist()\n",
    "#     all_regions_set = set(all_regions)\n",
    "\n",
    "#     for user in users:\n",
    "#         user_checkins = checkins[checkins['user_id'] == user]\n",
    "#         user_checkins = user_checkins.sort_values(by='local_datetime')\n",
    "#         user_h3_regions = user_checkins['h3_cell'].unique().tolist()\n",
    "\n",
    "#         # calcula k-hop de cada região\n",
    "#         k = 3   # k-hop neighborhood\n",
    "\n",
    "#         user_h3_k_hop_regions = user_h3_regions.copy()\n",
    "\n",
    "#         for region in user_h3_regions:\n",
    "#             neighbors_regions_set = set(list(h3.k_ring(region, k)))\n",
    "\n",
    "#             intersecao = list(all_regions_set & neighbors_regions_set)\n",
    "\n",
    "#             user_h3_k_hop_regions.extend(intersecao)\n",
    "\n",
    "#         user_h3_k_hop_regions = list(set(user_h3_k_hop_regions))\n",
    "\n",
    "#         adjacency_matrix = pd.DataFrame(0, index=user_h3_k_hop_regions, columns=user_h3_k_hop_regions)\n",
    "\n",
    "#         for i in range(len(user_checkins) - 1):\n",
    "#             localizacao_atual = user_checkins.iloc[i]['h3_cell']\n",
    "#             localizacao_proxima = user_checkins.iloc[i + 1]['h3_cell']\n",
    "#             adjacency_matrix.at[localizacao_atual, localizacao_proxima] += 1\n",
    "\n",
    "#         novo_dado = {\n",
    "#             'user_id': user, \n",
    "#             'matrices': str(adjacency_matrix.values.tolist()),\n",
    "#         }\n",
    "\n",
    "#         aux_df = pd.DataFrame(novo_dado, index=[0])\n",
    "\n",
    "#         users_regions_adjacency = pd.concat([users_regions_adjacency, aux_df], ignore_index=True)   \n",
    "\n",
    "#     return users_regions_adjacency"
   ]
  },
  {
   "cell_type": "code",
   "execution_count": 26,
   "metadata": {},
   "outputs": [],
   "source": [
    "# users_regions_adjacency_matrix = generate_user_region_adjacency_matrix(checkins)"
   ]
  },
  {
   "cell_type": "code",
   "execution_count": 27,
   "metadata": {},
   "outputs": [],
   "source": [
    "# users_regions_adjacency_matrix.shape"
   ]
  },
  {
   "cell_type": "code",
   "execution_count": 28,
   "metadata": {},
   "outputs": [],
   "source": [
    "# users_regions_adjacency_matrix[['user_id', 'matrices']].to_csv(f'region_adjacency_matrix_{estado}.csv', index=False)"
   ]
  },
  {
   "cell_type": "markdown",
   "metadata": {},
   "source": [
    "## Region - region (adjacency feature)\n",
    "\n",
    "**Entrada:**\n",
    "Check-ins com **região h3**\n",
    "\n",
    "**Saída:**\n",
    "**Matriz de feature** entre as regiões n x n, no qual **n** representa o número de regiões e cada elemento **i j** representa se a região i é adjacente a região j, geograficamente falando."
   ]
  },
  {
   "cell_type": "code",
   "execution_count": 29,
   "metadata": {},
   "outputs": [],
   "source": [
    "# def generate_user_region_adjacency_feature(checkins):\n",
    "#     users = checkins['user_id'].unique()\n",
    "\n",
    "#     users_regions_adjacency_feature = pd.DataFrame(columns=['user_id', 'matrices'])\n",
    "#     all_regions = checkins['h3_cell'].unique().tolist()\n",
    "#     all_regions_set = set(all_regions)\n",
    "\n",
    "#     for user in users:\n",
    "#         user_checkins = checkins[checkins['user_id'] == user].sort_values(by='local_datetime')\n",
    "#         user_h3_regions = user_checkins['h3_cell'].unique().tolist()\n",
    "\n",
    "#         # calcula k-hop de cada região\n",
    "#         k = 3   # k-hop neighborhood\n",
    "\n",
    "#         user_h3_k_hop_regions = user_h3_regions.copy()\n",
    "\n",
    "#         for region in user_h3_regions:\n",
    "#             neighbors_regions_set = set(list(h3.k_ring(region, k)))\n",
    "\n",
    "#             intersecao = list(all_regions_set & neighbors_regions_set)\n",
    "\n",
    "#             user_h3_k_hop_regions.extend(intersecao)\n",
    "\n",
    "#         user_h3_k_hop_regions = list(set(user_h3_k_hop_regions))\n",
    "        \n",
    "#         # cria mapeamento de regiões para construir a matriz\n",
    "#         regions_map = []\n",
    "\n",
    "#         i = 0\n",
    "#         for h3_region in user_h3_k_hop_regions:\n",
    "#             region_map = {'region_id': i, 'value': h3_region}\n",
    "#             i = i+1\n",
    "#             regions_map.append(region_map)\n",
    "\n",
    "#         adjacency_matrix = []\n",
    "\n",
    "#         for region_map_i in regions_map:\n",
    "#             region_h3_i = region_map_i['value']\n",
    "#             adjacency_i_j = []\n",
    "\n",
    "#             for region_map_j in regions_map:\n",
    "#                 region_h3_j = region_map_j['value']   \n",
    "\n",
    "#                 if (h3.h3_indexes_are_neighbors(region_h3_i, region_h3_j)):\n",
    "#                     value = 1\n",
    "#                 else:\n",
    "#                     value = 0\n",
    "\n",
    "#                 adjacency_i_j.append(value)\n",
    "            \n",
    "#             adjacency_matrix.append(adjacency_i_j)\n",
    "        \n",
    "#         novo_dado = {\n",
    "#             'user_id': user, \n",
    "#             'matrices': str(adjacency_matrix),\n",
    "#             # 'category': str(user_checkins['category'].unique()) \n",
    "#         }\n",
    "\n",
    "#         aux_df = pd.DataFrame(novo_dado, index=[0])\n",
    "\n",
    "#         users_regions_adjacency_feature = pd.concat([users_regions_adjacency_feature, aux_df], ignore_index=True)\n",
    "\n",
    "#     return users_regions_adjacency_feature"
   ]
  },
  {
   "cell_type": "code",
   "execution_count": 30,
   "metadata": {},
   "outputs": [],
   "source": [
    "# users_regions_adjacency_feature = generate_user_region_adjacency_feature(checkins)"
   ]
  },
  {
   "cell_type": "code",
   "execution_count": 31,
   "metadata": {},
   "outputs": [],
   "source": [
    "# users_regions_adjacency_feature.shape"
   ]
  },
  {
   "cell_type": "code",
   "execution_count": 32,
   "metadata": {},
   "outputs": [],
   "source": [
    "# users_regions_adjacency_feature[['user_id', 'matrices']].to_csv(f'region_adjacency_feature_{estado}.csv', index=False)"
   ]
  },
  {
   "cell_type": "markdown",
   "metadata": {},
   "source": [
    "## Region - POI (checkins quantity)\n",
    "\n",
    "**Entrada:**\n",
    "\n",
    "Checkins com uma **região h3** associada à latitude e longitude \n",
    "\n",
    "**Saída:**\n",
    "**Matriz de features **contendo em cada linha** a região h3** e em cada coluna a **quantidade de check-ins em um dado POI**."
   ]
  },
  {
   "cell_type": "code",
   "execution_count": 33,
   "metadata": {},
   "outputs": [],
   "source": [
    "# feature_matrix_poi_region_qt = (\n",
    "#     pd.crosstab(\n",
    "#         index=checkins_filtrados['h3_cell'], columns=checkins_filtrados['category']\n",
    "#     )\n",
    "# )\n",
    "\n",
    "# feature_matrix_poi_region_qt.columns = (\n",
    "#     [f'{col}' for col in feature_matrix_poi_region_qt.columns]\n",
    "# )\n",
    "\n",
    "# feature_matrix_poi_region_qt = feature_matrix_poi_region_qt.sort_index()"
   ]
  },
  {
   "cell_type": "code",
   "execution_count": 34,
   "metadata": {},
   "outputs": [],
   "source": [
    "# feature_matrix_poi_region_qt"
   ]
  },
  {
   "cell_type": "markdown",
   "metadata": {},
   "source": [
    "## Region - POI (poi quantity)\n",
    "\n",
    "**Entrada:**\n",
    "\n",
    "Checkins com uma **região h3**.\n",
    "\n",
    "**Saída:**\n",
    "**Matriz de features **contendo em cada linha** a região h3** e em cada coluna a **quantidade de de POIs existentes**."
   ]
  },
  {
   "cell_type": "code",
   "execution_count": 35,
   "metadata": {},
   "outputs": [],
   "source": [
    "# checkins_filtrados"
   ]
  },
  {
   "cell_type": "code",
   "execution_count": 36,
   "metadata": {},
   "outputs": [],
   "source": [
    "# checkins_filtrados[checkins_filtrados['h3_cell'] == '8a44e83598d7fff']"
   ]
  },
  {
   "cell_type": "code",
   "execution_count": 37,
   "metadata": {},
   "outputs": [],
   "source": [
    "# dados_feature = checkins_filtrados[['h3_cell', 'category', 'placeid']].drop_duplicates(subset=['h3_cell', 'placeid'])\n",
    "\n",
    "# cross_tab = pd.crosstab(dados_feature['h3_cell'], dados_feature['category'])\n",
    "\n",
    "# cross_tab"
   ]
  },
  {
   "cell_type": "code",
   "execution_count": 38,
   "metadata": {},
   "outputs": [],
   "source": [
    "# cross_tab.loc['8a44e83598d7fff']"
   ]
  },
  {
   "cell_type": "markdown",
   "metadata": {},
   "source": [
    "# PMI de co-ocorrência de localização deslocada (informações mútuas pontuais)"
   ]
  },
  {
   "cell_type": "code",
   "execution_count": 39,
   "metadata": {},
   "outputs": [],
   "source": [
    "# # retirado do código do HMRM\n",
    "# def create_location_coocurrency_matrix(checkins):\n",
    "#         try: \n",
    "#             users_checkins_sorted = checkins.sort_values(by=[\"local_datetime\"])\n",
    "#             regions = users_checkins_sorted[\"h3_id\"].tolist()\n",
    "#             number_of_regions = checkins[\"h3_id\"].nunique()\n",
    "            \n",
    "#             location_co_ocurrency = sparse.lil_matrix(\n",
    "#                 (number_of_regions, number_of_regions)\n",
    "#             )  ##location co occurency represents memory for save memory\n",
    "\n",
    "#             for i in range(len(regions)):\n",
    "#                 for j in range(1, 6):\n",
    "#                     if (i - j) < 0:\n",
    "#                         break\n",
    "#                     location_co_ocurrency[regions[i], regions[i - j]] += 1\n",
    "#                 for j in range(1, 6):\n",
    "#                     if (i + j) > len(regions) - 1:\n",
    "#                         break\n",
    "#                     location_co_ocurrency[regions[i], regions[j + i]] += 1\n",
    "#             sum_of_dl = np.sum(location_co_ocurrency)\n",
    "#             l_occurrency = np.sum(location_co_ocurrency, axis=1).reshape(-1, 1)\n",
    "#             c_occurrency = np.sum(location_co_ocurrency, axis=0).reshape(1, -1)\n",
    "\n",
    "#             for i in range(number_of_regions):\n",
    "#                 line = location_co_ocurrency[i].toarray()\n",
    "#                 ##PMI em subdivisoes da matriz esparsa\n",
    "#                 location_co_ocurrency[i] = np.maximum(\n",
    "#                     np.log2(\n",
    "#                         np.maximum(line * sum_of_dl, 1)\n",
    "#                         / (l_occurrency[i] * c_occurrency)\n",
    "#                     ),\n",
    "#                     0,\n",
    "#                 )\n",
    "            \n",
    "#             return (location_co_ocurrency)\n",
    "\n",
    "#         except Exception as e:\n",
    "#             raise e"
   ]
  },
  {
   "cell_type": "code",
   "execution_count": 40,
   "metadata": {},
   "outputs": [],
   "source": [
    "# checkins['h3_id'] = (\n",
    "#     checkins['h3_cell'].apply(lambda x: np.where(h3_regions == x)[0][0])\n",
    "# )\n",
    "\n",
    "# # print(create_location_coocurrency_matrix(checkins))"
   ]
  },
  {
   "cell_type": "markdown",
   "metadata": {},
   "source": [
    "# PMI de localização e tempo alterado"
   ]
  },
  {
   "cell_type": "code",
   "execution_count": 41,
   "metadata": {},
   "outputs": [],
   "source": [
    "# def create_region_time_matrix(checkins):\n",
    "#     regions = checkins[\"h3_id\"].tolist()\n",
    "#     datetimes = checkins[\"local_datetime\"].tolist()\n",
    "#     number_of_regions = checkins[\"h3_id\"].nunique()\n",
    "#     Dt = np.zeros((number_of_regions, 48))\n",
    "\n",
    "#     for i in range(len(regions)):\n",
    "#         if datetimes[i].weekday() >= 5:\n",
    "#             Dt[regions[i]][datetimes[i].hour + 24] += 1\n",
    "#         else:\n",
    "#             Dt[regions[i]][datetimes[i].hour] += 1\n",
    "\n",
    "#     sum_of_dt = np.sum(Dt)\n",
    "#     l_occurrency = np.sum(Dt, axis=1).reshape(-1, 1)\n",
    "#     c_occurrency = np.sum(Dt, axis=0).reshape(1, -1)\n",
    "\n",
    "#     mult = l_occurrency * c_occurrency\n",
    "#     mult[mult == 0] = -1\n",
    "\n",
    "#     tmp = np.maximum(Dt * sum_of_dt, 1) / mult\n",
    "#     tmp[tmp < 0] = 0\n",
    "#     region_time = np.maximum(np.log2(tmp), 0)\n",
    "\n",
    "#     return region_time"
   ]
  }
 ],
 "metadata": {
  "kernelspec": {
   "display_name": "Python 3",
   "language": "python",
   "name": "python3"
  },
  "language_info": {
   "codemirror_mode": {
    "name": "ipython",
    "version": 3
   },
   "file_extension": ".py",
   "mimetype": "text/x-python",
   "name": "python",
   "nbconvert_exporter": "python",
   "pygments_lexer": "ipython3",
   "version": "3.10.0"
  },
  "orig_nbformat": 4
 },
 "nbformat": 4,
 "nbformat_minor": 2
}
